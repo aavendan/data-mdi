{
 "cells": [
  {
   "cell_type": "code",
   "execution_count": 1,
   "metadata": {},
   "outputs": [],
   "source": [
    "import pandas as pd"
   ]
  },
  {
   "cell_type": "code",
   "execution_count": 10,
   "metadata": {},
   "outputs": [],
   "source": [
    "data = pd.read_csv('CynthiaViteri6.txt', sep=\"|\", header=None)"
   ]
  },
  {
   "cell_type": "code",
   "execution_count": 11,
   "metadata": {},
   "outputs": [],
   "source": [
    "data.columns = [\"tweet_id\",\"max_rt\",\"aslfj\",\"username\"]"
   ]
  },
  {
   "cell_type": "code",
   "execution_count": 14,
   "metadata": {},
   "outputs": [
    {
     "data": {
      "text/html": [
       "<div>\n",
       "<style scoped>\n",
       "    .dataframe tbody tr th:only-of-type {\n",
       "        vertical-align: middle;\n",
       "    }\n",
       "\n",
       "    .dataframe tbody tr th {\n",
       "        vertical-align: top;\n",
       "    }\n",
       "\n",
       "    .dataframe thead th {\n",
       "        text-align: right;\n",
       "    }\n",
       "</style>\n",
       "<table border=\"1\" class=\"dataframe\">\n",
       "  <thead>\n",
       "    <tr style=\"text-align: right;\">\n",
       "      <th></th>\n",
       "      <th>tweet_id</th>\n",
       "      <th>max_rt</th>\n",
       "      <th>aslfj</th>\n",
       "      <th>username</th>\n",
       "    </tr>\n",
       "  </thead>\n",
       "  <tbody>\n",
       "    <tr>\n",
       "      <th>0</th>\n",
       "      <td>1109852706351562752</td>\n",
       "      <td>246</td>\n",
       "      <td>25</td>\n",
       "      <td>@grupogentesana</td>\n",
       "    </tr>\n",
       "    <tr>\n",
       "      <th>1</th>\n",
       "      <td>1109852706351562752</td>\n",
       "      <td>246</td>\n",
       "      <td>25</td>\n",
       "      <td>@Carlos31484544</td>\n",
       "    </tr>\n",
       "    <tr>\n",
       "      <th>2</th>\n",
       "      <td>1109852706351562752</td>\n",
       "      <td>246</td>\n",
       "      <td>25</td>\n",
       "      <td>@mateo_pz064</td>\n",
       "    </tr>\n",
       "    <tr>\n",
       "      <th>3</th>\n",
       "      <td>1109852706351562752</td>\n",
       "      <td>246</td>\n",
       "      <td>25</td>\n",
       "      <td>@Dany66934582</td>\n",
       "    </tr>\n",
       "    <tr>\n",
       "      <th>4</th>\n",
       "      <td>1109852706351562752</td>\n",
       "      <td>246</td>\n",
       "      <td>25</td>\n",
       "      <td>@jadecker83</td>\n",
       "    </tr>\n",
       "  </tbody>\n",
       "</table>\n",
       "</div>"
      ],
      "text/plain": [
       "              tweet_id  max_rt  aslfj         username\n",
       "0  1109852706351562752     246     25  @grupogentesana\n",
       "1  1109852706351562752     246     25  @Carlos31484544\n",
       "2  1109852706351562752     246     25     @mateo_pz064\n",
       "3  1109852706351562752     246     25    @Dany66934582\n",
       "4  1109852706351562752     246     25      @jadecker83"
      ]
     },
     "execution_count": 14,
     "metadata": {},
     "output_type": "execute_result"
    }
   ],
   "source": [
    "data.head()"
   ]
  },
  {
   "cell_type": "code",
   "execution_count": 36,
   "metadata": {},
   "outputs": [],
   "source": [
    "grouped = data.groupby(['tweet_id', 'max_rt'])['username'].apply(lambda x: \"%s\" % ', '.join(x))"
   ]
  },
  {
   "cell_type": "code",
   "execution_count": 37,
   "metadata": {},
   "outputs": [
    {
     "data": {
      "text/plain": [
       "tweet_id             max_rt\n",
       "1091143286994202625  43        @casabando, @VeronicaLoaizaV, @FAGuayas, @fabr...\n",
       "1091159080507490304  36        @luis_carriel, @fabrizio_213, @raulalv79802951...\n",
       "1091340335010271235  17        @LA6MDG, @Sg3714, @lore_estupinan, @Sinclair11...\n",
       "1091341717175967745  17        @LA6MDG, @fabrizio_213, @Sg3714, @msvg1501, @j...\n",
       "1091346174668361728  25        @VicenteTaianoEC, @FAGuayas, @cruizalvarez, @C...\n",
       "Name: username, dtype: object"
      ]
     },
     "execution_count": 37,
     "metadata": {},
     "output_type": "execute_result"
    }
   ],
   "source": [
    "grouped.head()"
   ]
  },
  {
   "cell_type": "code",
   "execution_count": 38,
   "metadata": {},
   "outputs": [],
   "source": [
    "grouped.to_csv('primer_nivel.csv', sep=\"|\")"
   ]
  },
  {
   "cell_type": "code",
   "execution_count": 39,
   "metadata": {},
   "outputs": [],
   "source": [
    "data2 = pd.read_csv('CynthiaViteri6-wh.txt',sep=\"|\", header=None)"
   ]
  },
  {
   "cell_type": "code",
   "execution_count": 40,
   "metadata": {},
   "outputs": [],
   "source": [
    "data2.columns = [\"0\",\"1\",\"2\",\"3\",\"4\"]"
   ]
  },
  {
   "cell_type": "code",
   "execution_count": 42,
   "metadata": {},
   "outputs": [
    {
     "data": {
      "text/html": [
       "<div>\n",
       "<style scoped>\n",
       "    .dataframe tbody tr th:only-of-type {\n",
       "        vertical-align: middle;\n",
       "    }\n",
       "\n",
       "    .dataframe tbody tr th {\n",
       "        vertical-align: top;\n",
       "    }\n",
       "\n",
       "    .dataframe thead th {\n",
       "        text-align: right;\n",
       "    }\n",
       "</style>\n",
       "<table border=\"1\" class=\"dataframe\">\n",
       "  <thead>\n",
       "    <tr style=\"text-align: right;\">\n",
       "      <th></th>\n",
       "      <th>0</th>\n",
       "      <th>1</th>\n",
       "      <th>4</th>\n",
       "    </tr>\n",
       "  </thead>\n",
       "  <tbody>\n",
       "    <tr>\n",
       "      <th>0</th>\n",
       "      <td>1108905975615025152</td>\n",
       "      <td>@GyeSigue</td>\n",
       "      <td>#SigueGuayaquilSiguehttps://twitter.com/Cynthi...</td>\n",
       "    </tr>\n",
       "    <tr>\n",
       "      <th>1</th>\n",
       "      <td>1108902611904806912</td>\n",
       "      <td>@GyeSigue</td>\n",
       "      <td>¡Este 24 de marzo Guayaquil #RayaTodititititoL...</td>\n",
       "    </tr>\n",
       "    <tr>\n",
       "      <th>2</th>\n",
       "      <td>1098627637415690240</td>\n",
       "      <td>@GyeSigue</td>\n",
       "      <td>¡Gracias @CynthiaViteri6 por conversar con nos...</td>\n",
       "    </tr>\n",
       "    <tr>\n",
       "      <th>3</th>\n",
       "      <td>1097303507307282433</td>\n",
       "      <td>@GyeSigue</td>\n",
       "      <td>¡No te lo puedes perder!https://twitter.com/Cy...</td>\n",
       "    </tr>\n",
       "    <tr>\n",
       "      <th>4</th>\n",
       "      <td>1095751566366306304</td>\n",
       "      <td>@GyeSigue</td>\n",
       "      <td>#PorUnFuturoSinDrogashttps://twitter.com/Cynth...</td>\n",
       "    </tr>\n",
       "  </tbody>\n",
       "</table>\n",
       "</div>"
      ],
      "text/plain": [
       "                     0          1  \\\n",
       "0  1108905975615025152  @GyeSigue   \n",
       "1  1108902611904806912  @GyeSigue   \n",
       "2  1098627637415690240  @GyeSigue   \n",
       "3  1097303507307282433  @GyeSigue   \n",
       "4  1095751566366306304  @GyeSigue   \n",
       "\n",
       "                                                   4  \n",
       "0  #SigueGuayaquilSiguehttps://twitter.com/Cynthi...  \n",
       "1  ¡Este 24 de marzo Guayaquil #RayaTodititititoL...  \n",
       "2  ¡Gracias @CynthiaViteri6 por conversar con nos...  \n",
       "3  ¡No te lo puedes perder!https://twitter.com/Cy...  \n",
       "4  #PorUnFuturoSinDrogashttps://twitter.com/Cynth...  "
      ]
     },
     "execution_count": 42,
     "metadata": {},
     "output_type": "execute_result"
    }
   ],
   "source": [
    "data2[[\"0\",\"1\",\"4\"]].head()"
   ]
  },
  {
   "cell_type": "code",
   "execution_count": 44,
   "metadata": {},
   "outputs": [],
   "source": [
    "data2[[\"0\",\"1\",\"4\"]].to_csv('rt_primer_nivel.csv', sep=\"|\", index=False, header=None)"
   ]
  },
  {
   "cell_type": "code",
   "execution_count": 47,
   "metadata": {},
   "outputs": [],
   "source": [
    "data2[\"0\"].to_csv('ids_tweets.csv', sep=\"|\", index=False, header=None)"
   ]
  }
 ],
 "metadata": {
  "kernelspec": {
   "display_name": "Python 3",
   "language": "python",
   "name": "python3"
  },
  "language_info": {
   "codemirror_mode": {
    "name": "ipython",
    "version": 3
   },
   "file_extension": ".py",
   "mimetype": "text/x-python",
   "name": "python",
   "nbconvert_exporter": "python",
   "pygments_lexer": "ipython3",
   "version": "3.7.1"
  }
 },
 "nbformat": 4,
 "nbformat_minor": 2
}
