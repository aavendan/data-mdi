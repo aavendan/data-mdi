{
 "cells": [
  {
   "cell_type": "code",
   "execution_count": 44,
   "metadata": {},
   "outputs": [],
   "source": [
    "import GetOldTweets3 as got\n",
    "import urllib.request\n",
    "import json\n",
    "from bs4 import BeautifulSoup\n",
    "from datetime import datetime\n",
    "from dateutil import tz\n",
    "import time\n",
    "import random as rd\n",
    "import pandas as pd\n",
    "from multiprocessing.dummy import Pool as ThreadPool\n",
    "from functools import partial\n",
    "import os\n",
    "import requests\n",
    "import time"
   ]
  },
  {
   "cell_type": "code",
   "execution_count": 150,
   "metadata": {},
   "outputs": [],
   "source": [
    "def appendData(user):\n",
    "    url = \"https://twitual.com/?user=\"+user\n",
    "    r = requests.get(url)\n",
    "    \n",
    "    soup = BeautifulSoup(r.text, \"html.parser\")\n",
    "    followers = soup.findAll('div',attrs={'class':'section followers five'})\n",
    "    \n",
    "    if(len(followers) > 0 ):\n",
    "        lifollowers = followers[0].findAll('li')\n",
    "        \n",
    "        if(len(lifollowers) == 0 ):\n",
    "            raise Exception('I know Python!')\n",
    "        \n",
    "        print(\"user \",user, \" followers \", len(lifollowers))\n",
    "        time.sleep(5)\n",
    "        \n",
    "        flist = []\n",
    "\n",
    "        for follower in lifollowers:\n",
    "            flist.append(follower.text)\n",
    "\n",
    "        with open('tweets/users/CuentasValidasConUsuarios.txt','a', encoding=\"utf-8\") as usersFileOutput:\n",
    "            linea = user+\"|\"+','.join(flist)+'\\n'\n",
    "            usersFileOutput.write(linea)"
   ]
  },
  {
   "cell_type": "code",
   "execution_count": 151,
   "metadata": {},
   "outputs": [],
   "source": [
    "def getLastUser():\n",
    "    with open('tweets/users/CuentasValidasConUsuarios.txt','r', encoding=\"utf-8\") as usersFileIn:\n",
    "        lines = usersFileIn.readlines()\n",
    "        return lines[len(lines)-1].split(\"|\")[0]"
   ]
  },
  {
   "cell_type": "code",
   "execution_count": 56,
   "metadata": {},
   "outputs": [
    {
     "name": "stdout",
     "output_type": "stream",
     "text": [
      "5104\n"
     ]
    }
   ],
   "source": [
    "usuarios = []\n",
    "with open('tweets/users/CuentasValidas.txt','r', encoding=\"utf-8\") as usersFile:\n",
    "    lines = usersFile.readlines()\n",
    "    print(len(lines))\n",
    "    for line in lines:\n",
    "        usuario = line.strip().split(\"|\")[0].strip()\n",
    "        usuarios.append(usuario)"
   ]
  },
  {
   "cell_type": "code",
   "execution_count": 165,
   "metadata": {},
   "outputs": [
    {
     "name": "stdout",
     "output_type": "stream",
     "text": [
      "out\n",
      "out\n",
      "out\n",
      "out\n",
      "out\n",
      "out\n",
      "out\n",
      "out\n",
      "out\n",
      "out\n",
      "out\n",
      "out\n",
      "out\n",
      "out\n",
      "out\n",
      "out\n",
      "out\n",
      "out\n",
      "out\n",
      "out\n",
      "out\n"
     ]
    }
   ],
   "source": [
    "count = 0\n",
    "usuario = getLastUser()\n",
    "\n",
    "while count <= 20:\n",
    "    try:\n",
    "        idx = usuarios.index(usuario)+1\n",
    "        usuario = usuarios[idx]\n",
    "        appendData(usuario)\n",
    "    except:\n",
    "        print(\"out\")\n",
    "        count += 1\n",
    "    "
   ]
  }
 ],
 "metadata": {
  "kernelspec": {
   "display_name": "Python 3",
   "language": "python",
   "name": "python3"
  },
  "language_info": {
   "codemirror_mode": {
    "name": "ipython",
    "version": 3
   },
   "file_extension": ".py",
   "mimetype": "text/x-python",
   "name": "python",
   "nbconvert_exporter": "python",
   "pygments_lexer": "ipython3",
   "version": "3.7.1"
  }
 },
 "nbformat": 4,
 "nbformat_minor": 2
}
